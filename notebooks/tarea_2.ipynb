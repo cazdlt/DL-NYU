{
 "cells": [
  {
   "cell_type": "code",
   "execution_count": 13,
   "metadata": {
    "colab": {},
    "colab_type": "code",
    "id": "n1rRYMF_okBY"
   },
   "outputs": [],
   "source": [
    "# Import dependencies\n",
    "import sys\n",
    "sys.path.append(\"notebooks\")\n",
    "\n",
    "import torch\n",
    "import torch.nn as nn\n",
    "import torch.nn.functional as F\n",
    "from plot_lib import set_default, show_scatterplot, plot_bases\n",
    "import matplotlib.pyplot as plt\n",
    "import random\n",
    "import numpy as np"
   ]
  },
  {
   "cell_type": "code",
   "execution_count": 3,
   "metadata": {
    "colab": {},
    "colab_type": "code",
    "id": "YkaTWgU3okBc"
   },
   "outputs": [],
   "source": [
    "# Set up your device \n",
    "cuda = torch.cuda.is_available()\n",
    "device = torch.device(\"cuda:0\" if cuda else \"cpu\")"
   ]
  },
  {
   "cell_type": "code",
   "execution_count": 4,
   "metadata": {
    "colab": {},
    "colab_type": "code",
    "id": "_zcS-H-mokBe"
   },
   "outputs": [],
   "source": [
    "# Set up random seed to 1008. Do not change the random seed.\n",
    "# Yes, these are all necessary when you run experiments!\n",
    "seed = 1008\n",
    "random.seed(seed)\n",
    "np.random.seed(seed)\n",
    "torch.manual_seed(seed)\n",
    "if cuda:\n",
    "    torch.cuda.manual_seed(seed)\n",
    "    torch.cuda.manual_seed_all(seed)\n",
    "    torch.backends.cudnn.benchmark = False\n",
    "    torch.backends.cudnn.deterministic = True"
   ]
  },
  {
   "cell_type": "code",
   "execution_count": 5,
   "metadata": {
    "colab": {},
    "colab_type": "code",
    "id": "64jNfD5UokBh"
   },
   "outputs": [],
   "source": [
    "# Define data generating functions\n",
    "def quadratic_data_generator(data_size):\n",
    "    # f(x) = y = x^2 + 4x - 3\n",
    "    # generate an input tensor of size data_size with torch.randn\n",
    "    x = torch.randn(data_size, 1) - 2   \n",
    "    x = x.to(device)\n",
    "    y = x**2+4*x-3\n",
    "\n",
    "    return x,y\n",
    "\n",
    "def cubic_data_generator(data_size=100):\n",
    "    # f(x) = y = x^3 + 4x^2 - 3\n",
    "    # generate an input tensor of size data_size with torch.randn\n",
    "    x = torch.randn(data_size, 1) - 2   \n",
    "    x = x.to(device)\n",
    "    y=x**3+4*x**2-3\n",
    "   \n",
    "    return x, y"
   ]
  },
  {
   "cell_type": "code",
   "execution_count": 21,
   "metadata": {
    "colab": {},
    "colab_type": "code",
    "id": "_zcCkt40okBj"
   },
   "outputs": [
    {
     "output_type": "display_data",
     "data": {
      "text/plain": "<Figure size 432x288 with 1 Axes>",
      "image/png": "[encoded data removed]"
     },
     "metadata": {}
    }
   ],
   "source": [
    "# Generate the data with 128 datapoints\n",
    "data_size=128\n",
    "x, y = quadratic_data_generator(data_size)\n",
    "plt.scatter(x,y)\n",
    "plt.show()"
   ]
  },
  {
   "cell_type": "code",
   "execution_count": 15,
   "metadata": {
    "colab": {},
    "colab_type": "code",
    "id": "rn1TqPoHokBt"
   },
   "outputs": [],
   "source": [
    "# Define a Linear Classifier with a single linear layer and no non-linearity\n",
    "# (no hidden layer)\n",
    "class Linear_0H(nn.Module):\n",
    "    def __init__(self,input_size,output_size):\n",
    "        super().__init__()\n",
    "        self.fc1=nn.Linear(input_size,output_size)\n",
    "\n",
    "    def forward(self, x):\n",
    "        x=self.fc1(x)\n",
    "        return x"
   ]
  },
  {
   "cell_type": "code",
   "execution_count": 29,
   "metadata": {
    "colab": {},
    "colab_type": "code",
    "id": "In6FSCPzokBv"
   },
   "outputs": [],
   "source": [
    "# Define a Linear Classifier with a single hidden layer of size 5 and ReLU non-linearity\n",
    "class Linear_1H(nn.Module):\n",
    "    def __init__(self,input_size,output_size):\n",
    "        super().__init__()\n",
    "        self.fc1=nn.Linear(input_size,5)\n",
    "        self.fc2=nn.Linear(5,output_size)\n",
    "\n",
    "    def forward(self, x):\n",
    "        x=self.fc1(x)\n",
    "        x=F.relu(x)\n",
    "        x=self.fc2(x)\n",
    "        return x"
   ]
  },
  {
   "cell_type": "code",
   "execution_count": 32,
   "metadata": {
    "colab": {},
    "colab_type": "code",
    "id": "pzRNs4M1okBx"
   },
   "outputs": [],
   "source": [
    "# Define a Linear Classifier with a single hidden layer of size 5 and ReLU non-linearity\n",
    "class Linear_2H(nn.Module):\n",
    "    def __init__(self,input_size,output_size):\n",
    "        super().__init__()\n",
    "        self.fc1=nn.Linear(input_size,5)\n",
    "        self.fc2=nn.Linear(5,5)\n",
    "        self.fc3=nn.Linear(5,output_size)\n",
    "\n",
    "    def forward(self, x):\n",
    "        x=self.fc1(x)\n",
    "        x=F.relu(x)\n",
    "        x=self.fc2(x)\n",
    "        x=F.relu(x)\n",
    "        x=self.fc3(x)\n",
    "        return x"
   ]
  },
  {
   "cell_type": "code",
   "execution_count": 23,
   "metadata": {
    "colab": {},
    "colab_type": "code",
    "id": "M_vRsu4BokBz"
   },
   "outputs": [],
   "source": [
    "'''\n",
    "TODO: Training function\n",
    "\n",
    "Hint: look at some example pytorch tutorials to learn how to\n",
    "    - initialize optimizers\n",
    "    - zero gradient\n",
    "    - backprop the loss\n",
    "    - step the gradient\n",
    "\n",
    "\n",
    "Note: This is full batch. We compute forward on whole x,y.\n",
    "No need for dataloaders nor loop over batches. \n",
    "Just pass all of x to model's forward pass.\n",
    "'''\n",
    "def train(model, epochs, x, y):\n",
    "    \n",
    "    # Set model to training mode\n",
    "    model.train()\n",
    "    \n",
    "    # Define MSE loss function\n",
    "    criterion = torch.nn.MSELoss()\n",
    "    \n",
    "    # TODO: Define the SGD optimizer with learning rate 0.01\n",
    "    optimizer = torch.optim.SGD(model.parameters(), lr=0.01)\n",
    "    \n",
    "    for epoch in range(epochs):\n",
    "        \n",
    "        # TODO: Forward data through model to predict y\n",
    "        y_pred = model(x)\n",
    "        \n",
    "        # TODO: Compute loss in terms of predicted and true y\n",
    "        loss = criterion(y_pred,y)\n",
    "\n",
    "        # TODO: Zero gradient\n",
    "        optimizer.zero_grad()\n",
    "        \n",
    "        # TODO: call backward on loss\n",
    "        loss.backward()\n",
    "\n",
    "        # TODO: step the optimizer\n",
    "        optimizer.step()\n",
    "\n",
    "        # every 100 epochs, print\n",
    "        if (epoch+1) % 100 == 0:\n",
    "            print('Epoch {} loss: {}'.format(epoch+1, loss.item()))\n",
    "            \n",
    "    # return y_pred without gradient information, for plotting\n",
    "    return y_pred.detach()"
   ]
  },
  {
   "cell_type": "code",
   "execution_count": 30,
   "metadata": {
    "colab": {},
    "colab_type": "code",
    "id": "lx_EMETookB1",
    "outputId": "91eb5402-4009-437b-a601-ff6b73dcd5d7"
   },
   "outputs": [
    {
     "output_type": "stream",
     "name": "stdout",
     "text": [
      "Epoch 100 loss: 4.747470855712891\nEpoch 200 loss: 3.4820330142974854\nEpoch 300 loss: 2.723353862762451\nEpoch 400 loss: 2.26849627494812\nEpoch 500 loss: 1.9957914352416992\nEpoch 600 loss: 1.832294225692749\nEpoch 700 loss: 1.734271764755249\nEpoch 800 loss: 1.6755037307739258\nEpoch 900 loss: 1.6402697563171387\nEpoch 1000 loss: 1.6191456317901611\n"
     ]
    },
    {
     "output_type": "display_data",
     "data": {
      "text/plain": "<Figure size 432x288 with 1 Axes>",
      "image/png": "[encoded data removed]"
     },
     "metadata": {}
    }
   ],
   "source": [
    "# 0H model on quadratic data\n",
    "model = Linear_0H(1,1)\n",
    "y_pred = train(model, epochs=1000, x=x, y=y)\n",
    "\n",
    "# Plot predictions vs actual data\n",
    "plt.scatter(x, y)\n",
    "plt.scatter(x, y_pred)\n",
    "plt.show()"
   ]
  },
  {
   "cell_type": "code",
   "execution_count": 31,
   "metadata": {
    "colab": {},
    "colab_type": "code",
    "id": "m6HIEi6fokB-",
    "outputId": "74b3a7ef-1cc1-4629-e6ec-fb0594a1cb98"
   },
   "outputs": [
    {
     "output_type": "stream",
     "name": "stdout",
     "text": [
      "Epoch 100 loss: 1.7729170322418213\n",
      "Epoch 200 loss: 0.6150059700012207\n",
      "Epoch 300 loss: 0.3600037097930908\n",
      "Epoch 400 loss: 0.26530781388282776\n",
      "Epoch 500 loss: 0.23015131056308746\n",
      "Epoch 600 loss: 0.20724880695343018\n",
      "Epoch 700 loss: 0.1882096529006958\n",
      "Epoch 800 loss: 0.1815773844718933\n",
      "Epoch 900 loss: 0.17871125042438507\n",
      "Epoch 1000 loss: 0.17721688747406006\n"
     ]
    },
    {
     "output_type": "display_data",
     "data": {
      "text/plain": "<Figure size 432x288 with 1 Axes>",
      "image/png": "[encoded data removed]"
     },
     "metadata": {}
    }
   ],
   "source": [
    "# 1H model on quadratic data\n",
    "model = Linear_1H(1,1)\n",
    "y_pred = train(model, epochs=1000, x=x, y=y)\n",
    "plt.scatter(x, y)\n",
    "plt.scatter(x, y_pred)\n",
    "plt.show()"
   ]
  },
  {
   "cell_type": "code",
   "execution_count": 34,
   "metadata": {
    "colab": {},
    "colab_type": "code",
    "id": "_j-_jgS2okCC",
    "outputId": "9319d725-cb7c-4c39-f3fe-d80e1577e150"
   },
   "outputs": [
    {
     "output_type": "stream",
     "name": "stdout",
     "text": [
      "Epoch 100 loss: 1.3326350450515747\n",
      "Epoch 200 loss: 0.7109247446060181\n",
      "Epoch 300 loss: 0.6566295623779297\n",
      "Epoch 400 loss: 0.37820863723754883\n",
      "Epoch 500 loss: 0.2807121276855469\n",
      "Epoch 600 loss: 0.18277598917484283\n",
      "Epoch 700 loss: 0.1309109777212143\n",
      "Epoch 800 loss: 0.07713758200407028\n",
      "Epoch 900 loss: 0.041973941028118134\n",
      "Epoch 1000 loss: 0.03167674317955971\n"
     ]
    },
    {
     "output_type": "display_data",
     "data": {
      "text/plain": "<Figure size 432x288 with 1 Axes>",
      "image/png": "[encoded data removed]"
     },
     "metadata": {}
    }
   ],
   "source": [
    "# 2H model on quadratic data\n",
    "model = Linear_2H(1,1)\n",
    "y_pred = train(model, epochs=1000, x=x, y=y)\n",
    "plt.scatter(x, y)\n",
    "plt.scatter(x, y_pred)\n",
    "plt.show()"
   ]
  },
  {
   "cell_type": "code",
   "execution_count": 35,
   "metadata": {
    "colab": {},
    "colab_type": "code",
    "id": "e6P6Ta2ookCF"
   },
   "outputs": [],
   "source": [
    "# Generate cubic data with 128 data points\n",
    "x, y = cubic_data_generator(128)"
   ]
  },
  {
   "cell_type": "code",
   "execution_count": 36,
   "metadata": {
    "colab": {},
    "colab_type": "code",
    "id": "JPGQsaiVokCI",
    "outputId": "074f4aa8-d004-4b76-ccd6-73e230e717f9"
   },
   "outputs": [
    {
     "output_type": "stream",
     "name": "stdout",
     "text": [
      "Epoch 100 loss: 7.159453868865967\nEpoch 200 loss: 7.120039463043213\nEpoch 300 loss: 7.099043846130371\nEpoch 400 loss: 7.0878586769104\nEpoch 500 loss: 7.081900596618652\nEpoch 600 loss: 7.0787272453308105\nEpoch 700 loss: 7.077035903930664\nEpoch 800 loss: 7.076135158538818\nEpoch 900 loss: 7.075655937194824\nEpoch 1000 loss: 7.075400352478027\n"
     ]
    },
    {
     "output_type": "display_data",
     "data": {
      "text/plain": "<Figure size 432x288 with 1 Axes>",
      "image/png": "[encoded data removed]"
     },
     "metadata": {}
    }
   ],
   "source": [
    "# 0H model on cubic data\n",
    "model = Linear_0H(1,1)\n",
    "y_pred = train(model, epochs=1000, x=x, y=y)\n",
    "plt.scatter(x, y)\n",
    "plt.scatter(x, y_pred)\n",
    "plt.show()"
   ]
  },
  {
   "cell_type": "code",
   "execution_count": 37,
   "metadata": {
    "colab": {},
    "colab_type": "code",
    "id": "68JxHOz8okCL",
    "outputId": "92564c1f-b02f-4e2d-ec15-3177a63733ee"
   },
   "outputs": [
    {
     "output_type": "stream",
     "name": "stdout",
     "text": [
      "Epoch 100 loss: 7.198568344116211\n",
      "Epoch 200 loss: 6.806451320648193\n",
      "Epoch 300 loss: 6.070768356323242\n",
      "Epoch 400 loss: 5.53532600402832\n",
      "Epoch 500 loss: 5.119963645935059\n",
      "Epoch 600 loss: 4.763550758361816\n",
      "Epoch 700 loss: 4.398582935333252\n",
      "Epoch 800 loss: 3.972775936126709\n",
      "Epoch 900 loss: 3.4773223400115967\n",
      "Epoch 1000 loss: 2.967872142791748\n"
     ]
    },
    {
     "output_type": "display_data",
     "data": {
      "text/plain": "<Figure size 432x288 with 1 Axes>",
      "image/png": "[encoded data removed]"
     },
     "metadata": {}
    }
   ],
   "source": [
    "# 1H model on cubic data\n",
    "model = Linear_1H(1,1)\n",
    "y_pred = train(model, epochs=1000, x=x, y=y)\n",
    "plt.scatter(x, y)\n",
    "plt.scatter(x, y_pred)\n",
    "plt.show()"
   ]
  },
  {
   "cell_type": "code",
   "execution_count": 39,
   "metadata": {
    "colab": {},
    "colab_type": "code",
    "id": "zQCOjn_AokCP",
    "outputId": "822feb80-83b1-4a20-9fb4-776a69655cc5"
   },
   "outputs": [
    {
     "output_type": "stream",
     "name": "stdout",
     "text": [
      "Epoch 100 loss: 7.313069820404053\n",
      "Epoch 200 loss: 7.193248748779297\n",
      "Epoch 300 loss: 7.160701274871826\n",
      "Epoch 400 loss: 7.1382155418396\n",
      "Epoch 500 loss: 7.123879909515381\n",
      "Epoch 600 loss: 7.113778591156006\n",
      "Epoch 700 loss: 7.105047225952148\n",
      "Epoch 800 loss: 7.098205089569092\n",
      "Epoch 900 loss: 7.09406042098999\n",
      "Epoch 1000 loss: 7.090723991394043\n",
      "Epoch 1100 loss: 7.087728977203369\n",
      "Epoch 1200 loss: 7.0848822593688965\n",
      "Epoch 1300 loss: 7.082141399383545\n",
      "Epoch 1400 loss: 7.079494953155518\n",
      "Epoch 1500 loss: 7.077816963195801\n",
      "Epoch 1600 loss: 7.076940059661865\n",
      "Epoch 1700 loss: 7.076249122619629\n",
      "Epoch 1800 loss: 7.0756635665893555\n",
      "Epoch 1900 loss: 7.075326442718506\n",
      "Epoch 2000 loss: 7.075094223022461\n",
      "Epoch 2100 loss: 7.074912071228027\n",
      "Epoch 2200 loss: 7.074735164642334\n",
      "Epoch 2300 loss: 7.0745086669921875\n",
      "Epoch 2400 loss: 7.074163913726807\n",
      "Epoch 2500 loss: 7.073394298553467\n",
      "Epoch 2600 loss: 7.071957111358643\n",
      "Epoch 2700 loss: 7.069391250610352\n",
      "Epoch 2800 loss: 7.063548564910889\n",
      "Epoch 2900 loss: 7.010664939880371\n",
      "Epoch 3000 loss: 6.849674224853516\n",
      "Epoch 3100 loss: 6.43973445892334\n",
      "Epoch 3200 loss: 5.614563465118408\n",
      "Epoch 3300 loss: 4.0550537109375\n",
      "Epoch 3400 loss: 3.2872822284698486\n",
      "Epoch 3500 loss: 3.340754747390747\n",
      "Epoch 3600 loss: 3.5167479515075684\n",
      "Epoch 3700 loss: 3.1486520767211914\n",
      "Epoch 3800 loss: 2.764902353286743\n",
      "Epoch 3900 loss: 3.026002883911133\n",
      "Epoch 4000 loss: 2.615391254425049\n",
      "Epoch 4100 loss: 2.643498659133911\n",
      "Epoch 4200 loss: 2.7951602935791016\n",
      "Epoch 4300 loss: 2.5185129642486572\n",
      "Epoch 4400 loss: 2.548379898071289\n",
      "Epoch 4500 loss: 2.489609479904175\n",
      "Epoch 4600 loss: 2.599459648132324\n",
      "Epoch 4700 loss: 2.4206037521362305\n",
      "Epoch 4800 loss: 2.344892978668213\n",
      "Epoch 4900 loss: 2.2554261684417725\n",
      "Epoch 5000 loss: 2.2325966358184814\n",
      "Epoch 5100 loss: 2.105705976486206\n",
      "Epoch 5200 loss: 1.769052505493164\n",
      "Epoch 5300 loss: 1.8811686038970947\n",
      "Epoch 5400 loss: 1.7364914417266846\n",
      "Epoch 5500 loss: 1.6715954542160034\n",
      "Epoch 5600 loss: 1.6066956520080566\n",
      "Epoch 5700 loss: 1.5120917558670044\n",
      "Epoch 5800 loss: 1.4529616832733154\n",
      "Epoch 5900 loss: 1.3916763067245483\n",
      "Epoch 6000 loss: 1.3050578832626343\n",
      "Epoch 6100 loss: 1.219057559967041\n",
      "Epoch 6200 loss: 1.18282151222229\n",
      "Epoch 6300 loss: 1.119264841079712\n",
      "Epoch 6400 loss: 0.9733791351318359\n",
      "Epoch 6500 loss: 0.9122305512428284\n",
      "Epoch 6600 loss: 0.883716344833374\n",
      "Epoch 6700 loss: 0.8528449535369873\n",
      "Epoch 6800 loss: 0.8573523163795471\n",
      "Epoch 6900 loss: 0.833549439907074\n",
      "Epoch 7000 loss: 0.8034201860427856\n",
      "Epoch 7100 loss: 0.7965244054794312\n",
      "Epoch 7200 loss: 0.7636635303497314\n",
      "Epoch 7300 loss: 0.7998086810112\n",
      "Epoch 7400 loss: 0.6930255889892578\n",
      "Epoch 7500 loss: 0.6666929125785828\n",
      "Epoch 7600 loss: 0.7088338136672974\n",
      "Epoch 7700 loss: 0.6667463183403015\n",
      "Epoch 7800 loss: 0.6443054676055908\n",
      "Epoch 7900 loss: 0.5691708922386169\n",
      "Epoch 8000 loss: 0.556324303150177\n",
      "Epoch 8100 loss: 0.5769156217575073\n",
      "Epoch 8200 loss: 0.5530680418014526\n",
      "Epoch 8300 loss: 0.5125827193260193\n",
      "Epoch 8400 loss: 0.4869711101055145\n",
      "Epoch 8500 loss: 0.4754449129104614\n",
      "Epoch 8600 loss: 0.5012962818145752\n",
      "Epoch 8700 loss: 0.47254687547683716\n",
      "Epoch 8800 loss: 0.4544198513031006\n",
      "Epoch 8900 loss: 0.4396824240684509\n",
      "Epoch 9000 loss: 0.40856385231018066\n",
      "Epoch 9100 loss: 0.40878307819366455\n",
      "Epoch 9200 loss: 0.3886599540710449\n",
      "Epoch 9300 loss: 0.429703950881958\n",
      "Epoch 9400 loss: 0.3866472840309143\n",
      "Epoch 9500 loss: 0.39431408047676086\n",
      "Epoch 9600 loss: 0.36574700474739075\n",
      "Epoch 9700 loss: 0.37405943870544434\n",
      "Epoch 9800 loss: 0.37322065234184265\n",
      "Epoch 9900 loss: 0.3929115831851959\n",
      "Epoch 10000 loss: 0.36148425936698914\n"
     ]
    },
    {
     "output_type": "display_data",
     "data": {
      "text/plain": "<Figure size 432x288 with 1 Axes>",
      "image/png": "[encoded data removed]"
     },
     "metadata": {}
    }
   ],
   "source": [
    "# 2H model on cubic data\n",
    "model = Linear_2H(1,1)\n",
    "y_pred = train(model, epochs=10000, x=x, y=y)\n",
    "plt.scatter(x, y)\n",
    "plt.scatter(x, y_pred)\n",
    "plt.show()"
   ]
  }
 ],
 "metadata": {
  "colab": {
   "collapsed_sections": [],
   "name": "DS-GA-1008-HW_assignment_2_master.ipynb",
   "provenance": [],
   "version": "0.3.2"
  },
  "kernelspec": {
   "display_name": "Python 3",
   "language": "python",
   "name": "python3"
  },
  "language_info": {
   "codemirror_mode": {
    "name": "ipython",
    "version": 3
   },
   "file_extension": ".py",
   "mimetype": "text/x-python",
   "name": "python",
   "nbconvert_exporter": "python",
   "pygments_lexer": "ipython3",
   "version": "3.8.3-final"
  }
 },
 "nbformat": 4,
 "nbformat_minor": 1
}