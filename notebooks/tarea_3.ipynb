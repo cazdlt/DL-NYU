{
 "cells": [
  {
   "cell_type": "markdown",
   "metadata": {},
   "source": [
    "## 0. Setup"
   ]
  },
  {
   "cell_type": "code",
   "execution_count": 19,
   "metadata": {},
   "outputs": [],
   "source": [
    "# Import dependencies\n",
    "import sys\n",
    "sys.path.append(\"notebooks\")\n",
    "\n",
    "import torch\n",
    "import torch.nn as nn\n",
    "import torch.nn.functional as F\n",
    "import torch.optim as optim\n",
    "import random\n",
    "import numpy as np\n",
    "from torch.utils.data import DataLoader\n",
    "from torchvision import datasets, transforms"
   ]
  },
  {
   "cell_type": "code",
   "execution_count": 20,
   "metadata": {},
   "outputs": [],
   "source": [
    "# Set up your device \n",
    "cuda = torch.cuda.is_available()\n",
    "device = torch.device(\"cuda:0\" if cuda else \"cpu\")"
   ]
  },
  {
   "cell_type": "code",
   "execution_count": 21,
   "metadata": {},
   "outputs": [],
   "source": [
    "# Set up random seed to 1008. Do not change the random seed.\n",
    "# Yes, these are all necessary when you run experiments!\n",
    "seed = 1008\n",
    "random.seed(seed)\n",
    "np.random.seed(seed)\n",
    "torch.manual_seed(seed)\n",
    "if cuda:\n",
    "    torch.cuda.manual_seed(seed)\n",
    "    torch.cuda.manual_seed_all(seed)\n",
    "    torch.backends.cudnn.benchmark = False\n",
    "    torch.backends.cudnn.deterministic = True"
   ]
  },
  {
   "cell_type": "markdown",
   "metadata": {},
   "source": [
    "## 1. Data: MNIST\n",
    "#### Load the MNIST training and test dataset using $\\texttt{torch.utils.data.DataLoader}$ and $\\texttt{torchvision.datasets}$. \n",
    "\n",
    "Hint: You might find Alf's notebook useful: https://github.com/Atcold/pytorch-Deep-Learning/blob/master/06-convnet.ipynb, or see some of the PyTorch tutorials."
   ]
  },
  {
   "cell_type": "markdown",
   "metadata": {},
   "source": [
    "### 1.1. Load Training Set [4 pts]"
   ]
  },
  {
   "cell_type": "code",
   "execution_count": 22,
   "metadata": {},
   "outputs": [],
   "source": [
    "input_size  = 28*28   # images are 28x28 pixels\n",
    "output_size = 10      # there are 10 classes\n",
    "batch_size=128"
   ]
  },
  {
   "cell_type": "code",
   "execution_count": 23,
   "metadata": {},
   "outputs": [],
   "source": [
    "train_loader = torch.utils.data.DataLoader(\n",
    "    datasets.MNIST(\n",
    "        'data/',\n",
    "        train=True,\n",
    "        download=True,\n",
    "        transform=transforms.Compose([\n",
    "            transforms.ToTensor(),\n",
    "            transforms.Normalize((0.1307,), (0.3081,))\n",
    "        ])\n",
    "    ),\n",
    "    batch_size=batch_size, \n",
    "    shuffle=True\n",
    ")"
   ]
  },
  {
   "cell_type": "markdown",
   "metadata": {},
   "source": [
    "### 1.1. Load Test Set [4 pts]"
   ]
  },
  {
   "cell_type": "code",
   "execution_count": 24,
   "metadata": {},
   "outputs": [],
   "source": [
    "# Load the MNIST test set with batch size 128, apply data shuffling and normalization\n",
    "test_loader = torch.utils.data.DataLoader(\n",
    "    datasets.MNIST(\n",
    "        'data/', \n",
    "        train=False, \n",
    "        transform=transforms.Compose([\n",
    "                transforms.ToTensor(),\n",
    "                transforms.Normalize((0.1307,), (0.3081,))\n",
    "        ])\n",
    "    ),\n",
    "    batch_size=batch_size,\n",
    "    shuffle=True\n",
    ")"
   ]
  },
  {
   "cell_type": "markdown",
   "metadata": {},
   "source": [
    "## 2. Models\n",
    "#### You are going to define two convolutional neural networks which are trained to classify MNIST digits"
   ]
  },
  {
   "cell_type": "markdown",
   "metadata": {},
   "source": [
    "### 2.1. CNN without Batch Norm [5 pts]"
   ]
  },
  {
   "cell_type": "code",
   "execution_count": 25,
   "metadata": {},
   "outputs": [
    {
     "output_type": "execute_result",
     "data": {
      "text/plain": [
       "24"
      ]
     },
     "metadata": {},
     "execution_count": 25
    }
   ],
   "source": [
    "28-5+1"
   ]
  },
  {
   "cell_type": "code",
   "execution_count": 26,
   "metadata": {},
   "outputs": [],
   "source": [
    "# Fill in the values below that make this network valid for MNIST data\n",
    "\n",
    "conv1_in_ch = 1\n",
    "conv2_in_ch = 20\n",
    "fc1_in_features = 800\n",
    "fc2_in_features = 500\n",
    "n_classes = output_size"
   ]
  },
  {
   "source": [
    "## Tamaño de las capas:\n",
    "(w es el tamaño de una dimensión cualquiera(h,w,d))\n",
    "- Después de MaxPool o Conv:\n",
    "$$W_o=\\frac{W_i+2p-k}{s} + 1 $$\n",
    "- Después de BatchNorm\n",
    "$$W_o=W_i$$\n",
    "Ver el [artículo](https://medium.com/mlreview/a-guide-to-receptive-field-arithmetic-for-convolutional-neural-networks-e0f514068807) o el [paper](https://arxiv.org/pdf/1603.07285.pdf)"
   ],
   "cell_type": "markdown",
   "metadata": {}
  },
  {
   "cell_type": "code",
   "execution_count": 27,
   "metadata": {},
   "outputs": [],
   "source": [
    "class NetWithoutBatchNorm(nn.Module):\n",
    "    def __init__(self):\n",
    "        super(NetWithoutBatchNorm, self).__init__()\n",
    "        self.conv1 = nn.Conv2d(in_channels=conv1_in_ch, out_channels=20, kernel_size=5, stride=1)\n",
    "        self.conv2 = nn.Conv2d(in_channels=conv2_in_ch, out_channels=50, kernel_size=5, stride=1)\n",
    "        self.fc1 = nn.Linear(in_features=fc1_in_features, out_features=500)\n",
    "        self.fc2 = nn.Linear(in_features=fc2_in_features, out_features=n_classes)\n",
    "\n",
    "    def forward(self, x):\n",
    "        #[X]=NxCxHxW (en los comentarios se obvia el N - tamaño del batch)\n",
    "        x = F.relu(self.conv1(x)) #1x28x28 -> 20x24x24\n",
    "        x = F.max_pool2d(x, kernel_size=2, stride=2) #20x24x24 -> 20x12x12\n",
    "        x = F.relu(self.conv2(x)) #20x12x12 -> 50x8x8\n",
    "        x = F.max_pool2d(x, kernel_size=2, stride=2) #50x8x8 -> 50x4x4\n",
    "        x = x.view(-1, fc1_in_features) # 50x4x4 -> 800\n",
    "        x = F.relu(self.fc1(x)) #800 -> 500\n",
    "        x = self.fc2(x) #500 -> 10\n",
    "        x = F.log_softmax(x) #clasificación\n",
    "        return x"
   ]
  },
  {
   "cell_type": "markdown",
   "metadata": {},
   "source": [
    "### 2.2. CNN with Batch Norm [5 pts]"
   ]
  },
  {
   "cell_type": "code",
   "execution_count": 28,
   "metadata": {},
   "outputs": [],
   "source": [
    "# Fill in the values below that make this network valid for MNIST data\n",
    "\n",
    "conv1_bn_size = 20\n",
    "conv2_bn_size = 50\n",
    "fc1_bn_size = 500"
   ]
  },
  {
   "cell_type": "code",
   "execution_count": 29,
   "metadata": {},
   "outputs": [],
   "source": [
    "# Define the CNN with architecture explained in Part 2.2\n",
    "class NetWithBatchNorm(nn.Module):\n",
    "    def __init__(self):\n",
    "        super(NetWithBatchNorm, self).__init__()\n",
    "        self.conv1 = nn.Conv2d(in_channels=conv1_in_ch, out_channels=20, kernel_size=5, stride=1)\n",
    "        self.conv1_bn = nn.BatchNorm2d(conv1_bn_size)\n",
    "        self.conv2 = nn.Conv2d(in_channels=conv2_in_ch, out_channels=50, kernel_size=5, stride=1)\n",
    "        self.conv2_bn = nn.BatchNorm2d(conv2_bn_size)\n",
    "        self.fc1 = nn.Linear(in_features=fc1_in_features, out_features=500)\n",
    "        self.fc1_bn = nn.BatchNorm1d(fc1_bn_size)\n",
    "        self.fc2 = nn.Linear(in_features=fc2_in_features, out_features=n_classes)\n",
    "\n",
    "    def forward(self, x):\n",
    "        x = F.relu(self.conv1_bn(self.conv1(x)))\n",
    "        x = F.max_pool2d(x, kernel_size=2, stride=2)\n",
    "        x = F.relu(self.conv2_bn(self.conv2(x)))\n",
    "        x = F.max_pool2d(x, kernel_size=2, stride=2)\n",
    "        x = x.view(-1, fc1_in_features)\n",
    "        x = F.relu(self.fc1_bn(self.fc1(x)))\n",
    "        x = self.fc2(x)\n",
    "        x = F.log_softmax(x) #clasificación\n",
    "        return x"
   ]
  },
  {
   "cell_type": "markdown",
   "metadata": {},
   "source": [
    "## 3. Training & Evaluation"
   ]
  },
  {
   "cell_type": "markdown",
   "metadata": {},
   "source": [
    "### 3.1. Define training method [10 pts]"
   ]
  },
  {
   "cell_type": "code",
   "execution_count": 35,
   "metadata": {},
   "outputs": [],
   "source": [
    "def train(model, device, train_loader, optimizer, epoch, log_interval = 100):\n",
    "    # Set model to training mode\n",
    "    model.train()\n",
    "\n",
    "    # Loop through data points\n",
    "    for batch_idx, (data, target) in enumerate(train_loader):\n",
    "    \n",
    "        # Send data and target to device\n",
    "        data=data.to(device)\n",
    "        target=target.to(device)\n",
    "        \n",
    "        # Zero out the ortimizer\n",
    "        optimizer.zero_grad()\n",
    "        \n",
    "        # Pass data through model\n",
    "        Y=model(data)\n",
    "        \n",
    "        # Compute the negative log likelihood loss\n",
    "        loss=F.nll_loss(Y,target)\n",
    "        \n",
    "        # Backpropagate loss\n",
    "        loss.backward()\n",
    "        \n",
    "        # Make a step with the optimizer\n",
    "        optimizer.step()\n",
    "        \n",
    "        # Print loss (uncomment lines below once implemented)\n",
    "        if batch_idx % log_interval == 0:\n",
    "            print('Train Epoch: {} [{}/{} ({:.0f}%)]\\tLoss: {:.6f}'.format(\n",
    "                epoch, batch_idx * len(data), len(train_loader.dataset),\n",
    "                100. * batch_idx / len(train_loader), loss.item()))"
   ]
  },
  {
   "cell_type": "markdown",
   "metadata": {},
   "source": [
    "### 3.2. Define test method [10 pts]"
   ]
  },
  {
   "cell_type": "code",
   "execution_count": 45,
   "metadata": {},
   "outputs": [],
   "source": [
    "# Define test method\n",
    "def test(model, device, test_loader):\n",
    "    # Set model to evaluation mode\n",
    "    model.eval()\n",
    "    # Variable for the total loss \n",
    "    test_loss = 0\n",
    "    # Counter for the correct predictions\n",
    "    num_correct = 0\n",
    "    \n",
    "    # don't need autograd for eval\n",
    "    with torch.no_grad():\n",
    "        # Loop through data points\n",
    "        for data, target in test_loader:\n",
    "        \n",
    "            # Send data to device\n",
    "            data=data.to(device)\n",
    "            target=target.to(device)\n",
    "            \n",
    "            # Pass data through model\n",
    "            Y=model(data)\n",
    "            \n",
    "            # Compute the negative log likelihood loss with reduction='sum' and add to total test_loss\n",
    "            test_loss+=F.nll_loss(Y,target,reduction=\"sum\")\n",
    "            \n",
    "            # Get predictions from the model for each data point\n",
    "            pred = Y.data.max(1, keepdim=True)[1]     \n",
    "\n",
    "            # Add number of correct predictions to total num_correct \n",
    "            num_correct += pred.eq(target.data.view_as(pred)).cpu().sum().item()\n",
    "    \n",
    "    # Compute the average test_loss\n",
    "    avg_test_loss = test_loss/len(test_loader.dataset)\n",
    "    \n",
    "    # Print loss (uncomment lines below once implemented)\n",
    "    print('\\nTest set: Average loss: {:.4f}, Accuracy: {}/{} ({:.0f}%)\\n'.format(\n",
    "        avg_test_loss, num_correct, len(test_loader.dataset),\n",
    "        100. * num_correct / len(test_loader.dataset)))"
   ]
  },
  {
   "cell_type": "markdown",
   "metadata": {},
   "source": [
    "### 3.3 Train NetWithoutBatchNorm() [5 pts]"
   ]
  },
  {
   "cell_type": "code",
   "execution_count": 46,
   "metadata": {},
   "outputs": [
    {
     "output_type": "stream",
     "name": "stdout",
     "text": [
      "Train Epoch: 1 [0/60000 (0%)]\tLoss: 2.291516\n",
      "Train Epoch: 1 [12800/60000 (21%)]\tLoss: 0.370230\n",
      "Train Epoch: 1 [25600/60000 (43%)]\tLoss: 0.228659\n",
      "Train Epoch: 1 [38400/60000 (64%)]\tLoss: 0.211753\n",
      "Train Epoch: 1 [51200/60000 (85%)]\tLoss: 0.132632\n",
      "\n",
      "Test set: Average loss: 0.1527, Accuracy: 9544/10000 (95%)\n",
      "\n",
      "Train Epoch: 2 [0/60000 (0%)]\tLoss: 0.186075\n",
      "Train Epoch: 2 [12800/60000 (21%)]\tLoss: 0.227268\n",
      "Train Epoch: 2 [25600/60000 (43%)]\tLoss: 0.196297\n",
      "Train Epoch: 2 [38400/60000 (64%)]\tLoss: 0.066525\n",
      "Train Epoch: 2 [51200/60000 (85%)]\tLoss: 0.136721\n",
      "\n",
      "Test set: Average loss: 0.0948, Accuracy: 9692/10000 (97%)\n",
      "\n",
      "Train Epoch: 3 [0/60000 (0%)]\tLoss: 0.131765\n",
      "Train Epoch: 3 [12800/60000 (21%)]\tLoss: 0.093208\n",
      "Train Epoch: 3 [25600/60000 (43%)]\tLoss: 0.034918\n",
      "Train Epoch: 3 [38400/60000 (64%)]\tLoss: 0.052073\n",
      "Train Epoch: 3 [51200/60000 (85%)]\tLoss: 0.037276\n",
      "\n",
      "Test set: Average loss: 0.0813, Accuracy: 9745/10000 (97%)\n",
      "\n",
      "Train Epoch: 4 [0/60000 (0%)]\tLoss: 0.054793\n",
      "Train Epoch: 4 [12800/60000 (21%)]\tLoss: 0.071826\n",
      "Train Epoch: 4 [25600/60000 (43%)]\tLoss: 0.049043\n",
      "Train Epoch: 4 [38400/60000 (64%)]\tLoss: 0.077581\n",
      "Train Epoch: 4 [51200/60000 (85%)]\tLoss: 0.029562\n",
      "\n",
      "Test set: Average loss: 0.0573, Accuracy: 9815/10000 (98%)\n",
      "\n",
      "Train Epoch: 5 [0/60000 (0%)]\tLoss: 0.038122\n",
      "Train Epoch: 5 [12800/60000 (21%)]\tLoss: 0.063587\n",
      "Train Epoch: 5 [25600/60000 (43%)]\tLoss: 0.062881\n",
      "Train Epoch: 5 [38400/60000 (64%)]\tLoss: 0.040022\n",
      "Train Epoch: 5 [51200/60000 (85%)]\tLoss: 0.027663\n",
      "\n",
      "Test set: Average loss: 0.0525, Accuracy: 9829/10000 (98%)\n",
      "\n",
      "Train Epoch: 6 [0/60000 (0%)]\tLoss: 0.049294\n",
      "Train Epoch: 6 [12800/60000 (21%)]\tLoss: 0.052358\n",
      "Train Epoch: 6 [25600/60000 (43%)]\tLoss: 0.038045\n",
      "Train Epoch: 6 [38400/60000 (64%)]\tLoss: 0.024548\n",
      "Train Epoch: 6 [51200/60000 (85%)]\tLoss: 0.018712\n",
      "\n",
      "Test set: Average loss: 0.0462, Accuracy: 9854/10000 (99%)\n",
      "\n",
      "Train Epoch: 7 [0/60000 (0%)]\tLoss: 0.020541\n",
      "Train Epoch: 7 [12800/60000 (21%)]\tLoss: 0.054986\n",
      "Train Epoch: 7 [25600/60000 (43%)]\tLoss: 0.110711\n",
      "Train Epoch: 7 [38400/60000 (64%)]\tLoss: 0.072794\n",
      "Train Epoch: 7 [51200/60000 (85%)]\tLoss: 0.030282\n",
      "\n",
      "Test set: Average loss: 0.0434, Accuracy: 9860/10000 (99%)\n",
      "\n",
      "Train Epoch: 8 [0/60000 (0%)]\tLoss: 0.039150\n",
      "Train Epoch: 8 [12800/60000 (21%)]\tLoss: 0.049926\n",
      "Train Epoch: 8 [25600/60000 (43%)]\tLoss: 0.015823\n",
      "Train Epoch: 8 [38400/60000 (64%)]\tLoss: 0.032500\n",
      "Train Epoch: 8 [51200/60000 (85%)]\tLoss: 0.050175\n",
      "\n",
      "Test set: Average loss: 0.0377, Accuracy: 9886/10000 (99%)\n",
      "\n",
      "Train Epoch: 9 [0/60000 (0%)]\tLoss: 0.153312\n",
      "Train Epoch: 9 [12800/60000 (21%)]\tLoss: 0.041836\n",
      "Train Epoch: 9 [25600/60000 (43%)]\tLoss: 0.024683\n",
      "Train Epoch: 9 [38400/60000 (64%)]\tLoss: 0.020546\n",
      "Train Epoch: 9 [51200/60000 (85%)]\tLoss: 0.091914\n",
      "\n",
      "Test set: Average loss: 0.0392, Accuracy: 9867/10000 (99%)\n",
      "\n",
      "Train Epoch: 10 [0/60000 (0%)]\tLoss: 0.027224\n",
      "Train Epoch: 10 [12800/60000 (21%)]\tLoss: 0.011625\n",
      "Train Epoch: 10 [25600/60000 (43%)]\tLoss: 0.019473\n",
      "Train Epoch: 10 [38400/60000 (64%)]\tLoss: 0.073790\n",
      "Train Epoch: 10 [51200/60000 (85%)]\tLoss: 0.056705\n",
      "\n",
      "Test set: Average loss: 0.0384, Accuracy: 9874/10000 (99%)\n",
      "\n"
     ]
    }
   ],
   "source": [
    "# Deifne model and sent to device\n",
    "model = NetWithoutBatchNorm()\n",
    "model.to(device)\n",
    "\n",
    "# Optimizer: SGD with learning rate of 1e-2 and momentum of 0.5\n",
    "optimizer = torch.optim.SGD(model.parameters(),lr=1e-2,momentum=0.5)\n",
    "\n",
    "# Training loop with 10 epochs\n",
    "for epoch in range(1, 10 + 1):\n",
    "\n",
    "    # Train model\n",
    "    train(model,device,train_loader,optimizer,epoch)\n",
    "    \n",
    "    # Test model\n",
    "    test(model,device,test_loader)"
   ]
  },
  {
   "cell_type": "markdown",
   "metadata": {},
   "source": [
    "### 3.4 Train NetWithBatchNorm() [5 pts]"
   ]
  },
  {
   "cell_type": "code",
   "execution_count": 48,
   "metadata": {},
   "outputs": [
    {
     "output_type": "stream",
     "name": "stdout",
     "text": [
      "Train Epoch: 1 [0/60000 (0%)]\tLoss: 2.187880\n",
      "Train Epoch: 1 [12800/60000 (21%)]\tLoss: 0.227575\n",
      "Train Epoch: 1 [25600/60000 (43%)]\tLoss: 0.167217\n",
      "Train Epoch: 1 [38400/60000 (64%)]\tLoss: 0.120780\n",
      "Train Epoch: 1 [51200/60000 (85%)]\tLoss: 0.124913\n",
      "\n",
      "Test set: Average loss: 0.0877, Accuracy: 9775/10000 (98%)\n",
      "\n",
      "Train Epoch: 2 [0/60000 (0%)]\tLoss: 0.089564\n",
      "Train Epoch: 2 [12800/60000 (21%)]\tLoss: 0.106614\n",
      "Train Epoch: 2 [25600/60000 (43%)]\tLoss: 0.106534\n",
      "Train Epoch: 2 [38400/60000 (64%)]\tLoss: 0.094511\n",
      "Train Epoch: 2 [51200/60000 (85%)]\tLoss: 0.064975\n",
      "\n",
      "Test set: Average loss: 0.0608, Accuracy: 9844/10000 (98%)\n",
      "\n",
      "Train Epoch: 3 [0/60000 (0%)]\tLoss: 0.054411\n",
      "Train Epoch: 3 [12800/60000 (21%)]\tLoss: 0.072113\n",
      "Train Epoch: 3 [25600/60000 (43%)]\tLoss: 0.053685\n",
      "Train Epoch: 3 [38400/60000 (64%)]\tLoss: 0.043071\n",
      "Train Epoch: 3 [51200/60000 (85%)]\tLoss: 0.039131\n",
      "\n",
      "Test set: Average loss: 0.0497, Accuracy: 9861/10000 (99%)\n",
      "\n",
      "Train Epoch: 4 [0/60000 (0%)]\tLoss: 0.044834\n",
      "Train Epoch: 4 [12800/60000 (21%)]\tLoss: 0.014925\n",
      "Train Epoch: 4 [25600/60000 (43%)]\tLoss: 0.037613\n",
      "Train Epoch: 4 [38400/60000 (64%)]\tLoss: 0.021806\n",
      "Train Epoch: 4 [51200/60000 (85%)]\tLoss: 0.028033\n",
      "\n",
      "Test set: Average loss: 0.0417, Accuracy: 9871/10000 (99%)\n",
      "\n",
      "Train Epoch: 5 [0/60000 (0%)]\tLoss: 0.052728\n",
      "Train Epoch: 5 [12800/60000 (21%)]\tLoss: 0.019455\n",
      "Train Epoch: 5 [25600/60000 (43%)]\tLoss: 0.016454\n",
      "Train Epoch: 5 [38400/60000 (64%)]\tLoss: 0.031804\n",
      "Train Epoch: 5 [51200/60000 (85%)]\tLoss: 0.058092\n",
      "\n",
      "Test set: Average loss: 0.0364, Accuracy: 9884/10000 (99%)\n",
      "\n",
      "Train Epoch: 6 [0/60000 (0%)]\tLoss: 0.038915\n",
      "Train Epoch: 6 [12800/60000 (21%)]\tLoss: 0.024962\n",
      "Train Epoch: 6 [25600/60000 (43%)]\tLoss: 0.062170\n",
      "Train Epoch: 6 [38400/60000 (64%)]\tLoss: 0.012673\n",
      "Train Epoch: 6 [51200/60000 (85%)]\tLoss: 0.023178\n",
      "\n",
      "Test set: Average loss: 0.0335, Accuracy: 9901/10000 (99%)\n",
      "\n",
      "Train Epoch: 7 [0/60000 (0%)]\tLoss: 0.007810\n",
      "Train Epoch: 7 [12800/60000 (21%)]\tLoss: 0.015287\n",
      "Train Epoch: 7 [25600/60000 (43%)]\tLoss: 0.033597\n",
      "Train Epoch: 7 [38400/60000 (64%)]\tLoss: 0.031410\n",
      "Train Epoch: 7 [51200/60000 (85%)]\tLoss: 0.026924\n",
      "\n",
      "Test set: Average loss: 0.0324, Accuracy: 9898/10000 (99%)\n",
      "\n",
      "Train Epoch: 8 [0/60000 (0%)]\tLoss: 0.018171\n",
      "Train Epoch: 8 [12800/60000 (21%)]\tLoss: 0.014823\n",
      "Train Epoch: 8 [25600/60000 (43%)]\tLoss: 0.017268\n",
      "Train Epoch: 8 [38400/60000 (64%)]\tLoss: 0.018547\n",
      "Train Epoch: 8 [51200/60000 (85%)]\tLoss: 0.028589\n",
      "\n",
      "Test set: Average loss: 0.0325, Accuracy: 9895/10000 (99%)\n",
      "\n",
      "Train Epoch: 9 [0/60000 (0%)]\tLoss: 0.022819\n",
      "Train Epoch: 9 [12800/60000 (21%)]\tLoss: 0.009836\n",
      "Train Epoch: 9 [25600/60000 (43%)]\tLoss: 0.025397\n",
      "Train Epoch: 9 [38400/60000 (64%)]\tLoss: 0.012566\n",
      "Train Epoch: 9 [51200/60000 (85%)]\tLoss: 0.062327\n",
      "\n",
      "Test set: Average loss: 0.0301, Accuracy: 9914/10000 (99%)\n",
      "\n",
      "Train Epoch: 10 [0/60000 (0%)]\tLoss: 0.011242\n",
      "Train Epoch: 10 [12800/60000 (21%)]\tLoss: 0.012736\n",
      "Train Epoch: 10 [25600/60000 (43%)]\tLoss: 0.004521\n",
      "Train Epoch: 10 [38400/60000 (64%)]\tLoss: 0.006994\n",
      "Train Epoch: 10 [51200/60000 (85%)]\tLoss: 0.013983\n",
      "\n",
      "Test set: Average loss: 0.0288, Accuracy: 9910/10000 (99%)\n",
      "\n"
     ]
    }
   ],
   "source": [
    "# Deifne model and sent to device\n",
    "model = NetWithBatchNorm()\n",
    "model.to(device)\n",
    "\n",
    "# Optimizer: SGD with learning rate of 1e-2 and momentum of 0.5\n",
    "optimizer = torch.optim.SGD(model.parameters(),lr=1e-2,momentum=0.5)\n",
    "\n",
    "# Training loop with 10 epochs\n",
    "for epoch in range(1, 10 + 1):\n",
    "    \n",
    "    # Train model\n",
    "    train(model,device,train_loader,optimizer,epoch)\n",
    "    \n",
    "    # Test model\n",
    "    test(model,device,test_loader)"
   ]
  },
  {
   "cell_type": "markdown",
   "metadata": {},
   "source": [
    "## 4. Empirically, which of the models achieves higher accuracy faster? [2 pts]"
   ]
  },
  {
   "cell_type": "markdown",
   "metadata": {},
   "source": [
    "Answer: "
   ]
  }
 ],
 "metadata": {
  "kernelspec": {
   "display_name": "Python 3",
   "language": "python",
   "name": "python3"
  },
  "language_info": {
   "codemirror_mode": {
    "name": "ipython",
    "version": 3
   },
   "file_extension": ".py",
   "mimetype": "text/x-python",
   "name": "python",
   "nbconvert_exporter": "python",
   "pygments_lexer": "ipython3",
   "version": "3.8.3-final"
  }
 },
 "nbformat": 4,
 "nbformat_minor": 2
}